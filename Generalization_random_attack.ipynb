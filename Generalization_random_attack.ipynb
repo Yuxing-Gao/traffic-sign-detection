{
 "cells": [
  {
   "cell_type": "markdown",
   "metadata": {},
   "source": [
    "# Running on new images\n",
    "This notebook will walk you step by step through the process of using a pre-trained model to detect traffic signs in an image."
   ]
  },
  {
   "cell_type": "markdown",
   "metadata": {},
   "source": [
    "# Imports"
   ]
  },
  {
   "cell_type": "code",
   "execution_count": null,
   "metadata": {
    "scrolled": true
   },
   "outputs": [],
   "source": [
    "import warnings\n",
    "warnings.filterwarnings('ignore')\n",
    "warnings.simplefilter(action='ignore', category=FutureWarning)\n",
    "import numpy as np\n",
    "import os\n",
    "import tensorflow as tf\n",
    "\n",
    "\n",
    "from matplotlib import pyplot as plt\n",
    "import glob as glob\n",
    "import random\n",
    "import pickle\n",
    "\n",
    "import sys\n",
    "import cv2\n",
    "import csv\n",
    "import re\n",
    "%matplotlib inline\n",
    "\n",
    "# tf.executing_eagerly()"
   ]
  },
  {
   "cell_type": "code",
   "execution_count": null,
   "metadata": {},
   "outputs": [],
   "source": [
    "score_threshold = 0.3\n",
    "np.random.seed(1)"
   ]
  },
  {
   "cell_type": "markdown",
   "metadata": {},
   "source": [
    "# Environment setup"
   ]
  },
  {
   "cell_type": "code",
   "execution_count": null,
   "metadata": {},
   "outputs": [],
   "source": [
    "\n",
    "\n",
    "sys.path.append('../models/research')  # Replace with the path to TensorFlow Object Detection API\n",
    "sys.path.append('../darkflow')  # Replace with the path to Darkflow\n",
    "\n",
    "from object_detection.utils import label_map_util\n",
    "from object_detection.utils import visualization_utils as vis_util\n"
   ]
  },
  {
   "cell_type": "markdown",
   "metadata": {},
   "source": [
    "## Model preparation "
   ]
  },
  {
   "cell_type": "markdown",
   "metadata": {},
   "source": [
    "# Tensorflow Object Detection API"
   ]
  },
  {
   "cell_type": "code",
   "execution_count": null,
   "metadata": {},
   "outputs": [],
   "source": [
    "# MODEL_NAME = 'faster_rcnn_inception_resnet_v2_atrous'\n",
    "# MODEL_NAME = 'faster_rcnn_resnet_101'\n",
    "# MODEL_NAME = 'faster_rcnn_resnet50'\n",
    "# MODEL_NAME = 'faster_rcnn_inception_v2'\n",
    "# MODEL_NAME = 'rfcn_resnet101'\n",
    "# MODEL_NAME = 'ssd_inception_v2'\n",
    "MODEL_NAME = 'ssd_mobilenet_v1'"
   ]
  },
  {
   "cell_type": "code",
   "execution_count": null,
   "metadata": {},
   "outputs": [],
   "source": [
    "# Path to frozen detection graph. This is the actual model that is used for the traffic sign detection.\n",
    "MODEL_PATH = os.path.join('models', MODEL_NAME)\n",
    "PATH_TO_CKPT = os.path.join(MODEL_PATH,'inference_graph/frozen_inference_graph.pb')\n",
    "\n",
    "# List of the strings that is used to add correct label for each box.\n",
    "PATH_TO_LABELS = os.path.join('gtsdb_data', 'gtsdb3_label_map.pbtxt')\n",
    "\n",
    "NUM_CLASSES = 3\n"
   ]
  },
  {
   "cell_type": "markdown",
   "metadata": {},
   "source": [
    "## Load a (frozen) Tensorflow model into memory"
   ]
  },
  {
   "cell_type": "code",
   "execution_count": null,
   "metadata": {},
   "outputs": [],
   "source": [
    "detection_graph = tf.Graph()\n",
    "with detection_graph.as_default():\n",
    "    od_graph_def = tf.GraphDef()\n",
    "    with tf.gfile.GFile(PATH_TO_CKPT, 'rb') as fid:\n",
    "        serialized_graph = fid.read()\n",
    "        od_graph_def.ParseFromString(serialized_graph)\n",
    "        tf.import_graph_def(od_graph_def, name='')"
   ]
  },
  {
   "cell_type": "markdown",
   "metadata": {},
   "source": [
    "## Loading label map\n",
    "Label maps map indices to category names, so that when our convolution network predicts `2`, we know that this corresponds to `mandatory`."
   ]
  },
  {
   "cell_type": "code",
   "execution_count": null,
   "metadata": {},
   "outputs": [],
   "source": [
    "PATH_TO_LABELS = r'D:\\my_project\\traffic-sign-detection\\gtsdb_data\\gtsdb3_label_map.pbtxt'\n",
    "\n",
    "# Directly reading the file for troubleshooting\n",
    "try:\n",
    "    with open(PATH_TO_LABELS, 'rb') as f:\n",
    "        print(\"Direct read:\", f.read())\n",
    "except Exception as e:\n",
    "    print(\"File read error:\", str(e))\n",
    "\n",
    "# Your existing code\n",
    "print('1')\n",
    "try:\n",
    "    label_map = label_map_util.load_labelmap(PATH_TO_LABELS)\n",
    "except Exception as e:\n",
    "    print(\"Error during label map load:\", str(e))\n",
    "print('2')\n",
    "categories = label_map_util.convert_label_map_to_categories(label_map, max_num_classes=NUM_CLASSES, use_display_name=True)\n",
    "print('3')\n",
    "category_index = label_map_util.create_category_index(categories)\n",
    "print(label_map)\n",
    "\n"
   ]
  },
  {
   "cell_type": "markdown",
   "metadata": {},
   "source": [
    "## Helper code"
   ]
  },
  {
   "cell_type": "code",
   "execution_count": null,
   "metadata": {},
   "outputs": [],
   "source": [
    "def load_image_into_numpy_array(image):\n",
    "    (im_width, im_height) = image.size\n",
    "    #return np.array(image.getdata()).reshape((im_height, im_width, 3)).astype(np.uint8)\n",
    "    return np.array(image.getdata()).reshape((im_height, im_width, 3))"
   ]
  },
  {
   "cell_type": "markdown",
   "metadata": {},
   "source": [
    "## Detection"
   ]
  },
  {
   "cell_type": "code",
   "execution_count": null,
   "metadata": {},
   "outputs": [],
   "source": [
    "\n",
    "PATH_TO_TEST_IMAGES_DIR =  r'D:\\my_project\\traffic-sign-detection\\test_images'\n",
    "\n",
    "TEST_IMAGE_PATHS = glob.glob(os.path.join(PATH_TO_TEST_IMAGES_DIR, '*.jpg'))\n",
    "\n",
    "# Size, in inches, of the output images.\n",
    "IMAGE_SIZE = (20, 20)"
   ]
  },
  {
   "cell_type": "code",
   "execution_count": null,
   "metadata": {},
   "outputs": [],
   "source": [
    "\n",
    "\n",
    "def extract_number(pattern, filename):\n",
    "    match = re.search(pattern, filename)\n",
    "    if match:\n",
    "        return int(match.group(1))\n",
    "    else:\n",
    "        return None\n",
    "\n",
    "def extract_iteration(filename):\n",
    "    # This will extract a one or two-digit iteration number after 'itr' and before '.jpg'\n",
    "    return extract_number(r\"itr(\\d+).jpg\", filename)\n",
    "    \n",
    "\n",
    "def extract_image_index(filename):\n",
    "    # This will extract a three-digit image index between 'alg1_' and '_itr'\n",
    "    return extract_number(r\"alg1_(\\d+)_itr\", filename)\n",
    "\n",
    "def save_adversarial_image_with_boxes(image, image_index, iteration, save_dir, algorithm_number, suffix=\"box\"):\n",
    "    image_with_boxes_name = f\"{suffix}alg{algorithm_number}_{image_index:03d}_iter{iteration}.jpg\"\n",
    "    image_with_boxes_save_path = os.path.join(save_dir, image_with_boxes_name)\n",
    "    plt.imsave(image_with_boxes_save_path, image)\n",
    "    return image_with_boxes_name\n",
    "\n",
    "\n",
    "def append_results(results, image_name, iteration, class_name, score, box, sum_diff, max_diff):\n",
    "    results.append({\n",
    "        'image_name': image_name,\n",
    "        'iteration': iteration,\n",
    "        'class': class_name,\n",
    "        'score': float(score),\n",
    "        'box': box,\n",
    "        'total_perturbation': sum_diff,\n",
    "        'max_perturbation': max_diff\n",
    "    })\n",
    "    \n",
    "def save_results_to_csv(results, image_index, save_dir, algorithm_number):\n",
    "    csv_filename = f\"faster_rcnn_alg{algorithm_number}_results.csv\"\n",
    "    csv_path = os.path.join(save_dir, csv_filename)\n",
    "    \n",
    "    # Check if file exists to decide whether to write headers or not\n",
    "    file_exists = os.path.isfile(csv_path)\n",
    "    \n",
    "    with open(csv_path, 'a', newline='') as csvfile:\n",
    "        fieldnames = ['image_index', 'image_name', 'iteration', 'class', 'score', 'box', 'total_perturbation', 'max_perturbation']\n",
    "        writer = csv.DictWriter(csvfile, fieldnames=fieldnames)\n",
    "        \n",
    "        # If the file does not exist, write the header\n",
    "        if not file_exists:\n",
    "            writer.writeheader()\n",
    "        \n",
    "        for result in results:\n",
    "            # No need to increment image_index, it should be taken directly from the filename\n",
    "            result['image_index'] = image_index\n",
    "            writer.writerow(result)\n"
   ]
  },
  {
   "cell_type": "code",
   "execution_count": null,
   "metadata": {},
   "outputs": [],
   "source": [
    "\n",
    "algorithm_number = 0\n",
    "\n",
    "SAVE_DIR = \"ssd_mobilenet_0\"\n",
    "if not os.path.exists(SAVE_DIR):\n",
    "    os.makedirs(SAVE_DIR)\n",
    "\n",
    "\n",
    "with detection_graph.as_default():\n",
    "    with tf.Session(graph=detection_graph) as sess:\n",
    "        for image_path in TEST_IMAGE_PATHS:\n",
    "            image_index = extract_image_index(image_path)\n",
    "            iteration_number = extract_iteration(image_path)\n",
    "\n",
    "            image_tensor = detection_graph.get_tensor_by_name('image_tensor:0')\n",
    "            boxes = detection_graph.get_tensor_by_name('detection_boxes:0')\n",
    "            scores = detection_graph.get_tensor_by_name('detection_scores:0')\n",
    "            classes = detection_graph.get_tensor_by_name('detection_classes:0')\n",
    "            num_detections = detection_graph.get_tensor_by_name('num_detections:0')\n",
    "\n",
    "            image_data = tf.read_file(image_path)\n",
    "            image_decoded = tf.image.decode_image(image_data)\n",
    "            image_np = sess.run(image_decoded)\n",
    "            image_np_expanded = np.expand_dims(image_np, axis=0)\n",
    "\n",
    "            results = []\n",
    "\n",
    "            # Run the detection\n",
    "            (boxes, scores, classes, num) = sess.run(\n",
    "                [boxes, scores, classes, num_detections],\n",
    "                feed_dict={image_tensor: image_np_expanded})\n",
    "\n",
    "            # Process the detections and append results\n",
    "            for i in range(boxes.shape[1]):\n",
    "                if scores[0, i] > score_threshold:\n",
    "                    class_id = int(classes[0, i])\n",
    "                    class_name = category_index[class_id]['name']\n",
    "                    box = boxes[0, i].tolist()\n",
    "                    score = scores[0, i]\n",
    "                    # Here you would calculate sum_diff and max_diff based on your application's needs\n",
    "                    sum_diff = 0 # Placeholder, replace with actual calculation\n",
    "                    max_diff = 0 # Placeholder, replace with actual calculation\n",
    "                    image_name = f\"alg{algorithm_number}_{image_index:03d}_itr{iteration_number}.jpg\"\n",
    "                    # Append the result for this detection\n",
    "                    append_results(results, image_name, iteration_number, class_name, score, box, sum_diff, max_diff)\n",
    "\n",
    "            # Save the image with boxes\n",
    "            vis_util.visualize_boxes_and_labels_on_image_array(\n",
    "                image_np,\n",
    "                np.squeeze(boxes),\n",
    "                np.squeeze(classes).astype(np.int32),\n",
    "                np.squeeze(scores),\n",
    "                category_index,\n",
    "                use_normalized_coordinates=True,\n",
    "                line_thickness=6)\n",
    "            \n",
    "            save_adversarial_image_with_boxes(image_np, image_index, iteration_number, SAVE_DIR, algorithm_number)\n",
    "            \n",
    "            # Save results to CSV\n",
    "            save_results_to_csv(results, image_index, SAVE_DIR, algorithm_number)\n",
    "\n"
   ]
  }
 ],
 "metadata": {
  "anaconda-cloud": {},
  "kernelspec": {
   "display_name": "Python 3",
   "language": "python",
   "name": "python3"
  },
  "language_info": {
   "codemirror_mode": {
    "name": "ipython",
    "version": 3
   },
   "file_extension": ".py",
   "mimetype": "text/x-python",
   "name": "python",
   "nbconvert_exporter": "python",
   "pygments_lexer": "ipython3",
   "version": "3.7.1"
  }
 },
 "nbformat": 4,
 "nbformat_minor": 2
}
